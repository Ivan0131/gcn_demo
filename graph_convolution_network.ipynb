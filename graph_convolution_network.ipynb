{
 "cells": [
  {
   "cell_type": "code",
   "execution_count": 1,
   "metadata": {},
   "outputs": [],
   "source": [
    "import numpy as np\n",
    "import scipy\n",
    "from sklearn import metrics\n",
    "from numpy import random\n",
    "import tensorflow as tf\n",
    "import matplotlib.pyplot as plt\n",
    "import seaborn as sns\n",
    "from sklearn import cluster, preprocessing, decomposition\n",
    "from scipy.sparse import csgraph\n",
    "from tensorflow.keras import layers\n",
    "%matplotlib inline"
   ]
  },
  {
   "cell_type": "markdown",
   "metadata": {},
   "source": [
    "### 将每个像素点作为graph中的结点，然后随机采样400个结点，每个结点连接最近的8个结点，生成对应的graph"
   ]
  },
  {
   "cell_type": "code",
   "execution_count": 2,
   "metadata": {},
   "outputs": [],
   "source": [
    "def generate_grid_graph(m, k=8, num_samples=400):\n",
    "    #生成m*m的图像中每个像素点的坐标\n",
    "    M = m**2\n",
    "    x = np.linspace(0, 1, m, dtype=np.float32)\n",
    "    y = np.linspace(0, 1, m, dtype=np.float32)\n",
    "    xx, yy = np.meshgrid(x, y)\n",
    "    z = np.empty((M, 2), np.float32)\n",
    "    z[:, 0] = xx.reshape(M)\n",
    "    z[:, 1] = yy.reshape(M)\n",
    "    \n",
    "    # 随机选择部分结点\n",
    "    sample_inds = random.choice(range(M), num_samples, False)\n",
    "    sample_inds.sort()\n",
    "    z_sample = z[sample_inds, :]\n",
    "    \n",
    "    #计算像素点之间的距离\n",
    "    dist = metrics.pairwise_distances(\n",
    "        z_sample, metric='euclidean')\n",
    "    #取前k个最近邻结点 k-NN graph.\n",
    "    idx = np.argsort(dist)[:, 1:k+1] #前k个最近邻结点的idx\n",
    "    dist.sort()\n",
    "    dist = dist[:, 1:k+1] #前k个最近邻结点的距离\n",
    "    \n",
    "    # 根据距离计算边的权重\n",
    "    sigma2 = np.mean(dist[:, -1])**2\n",
    "    dist = np.exp(- dist**2 / sigma2)\n",
    "\n",
    "    # 权重矩阵\n",
    "    I = np.arange(0, num_samples).repeat(k)\n",
    "    J = idx.reshape(num_samples*k)\n",
    "    V = dist.reshape(num_samples*k)\n",
    "    W = scipy.sparse.coo_matrix((V, (I, J)), shape=(num_samples, num_samples))\n",
    "\n",
    "    # 去除自连接\n",
    "    W.setdiag(0)\n",
    "\n",
    "    # 数值计算问题，引起的矩阵不对称，修正这一问题\n",
    "    bigger = W.T > W\n",
    "    W = W - W.multiply(bigger) + W.T.multiply(bigger)\n",
    "    \n",
    "    return sample_inds, W"
   ]
  },
  {
   "cell_type": "code",
   "execution_count": 3,
   "metadata": {},
   "outputs": [],
   "source": [
    "img_width = 28\n",
    "sample_inds, W_sample = generate_grid_graph(28)"
   ]
  },
  {
   "cell_type": "markdown",
   "metadata": {},
   "source": [
    "### 读取MNIST数据"
   ]
  },
  {
   "cell_type": "code",
   "execution_count": 4,
   "metadata": {},
   "outputs": [],
   "source": [
    "(x_train, y_train), (x_test, y_test) = tf.keras.datasets.mnist.load_data()"
   ]
  },
  {
   "cell_type": "code",
   "execution_count": 5,
   "metadata": {},
   "outputs": [],
   "source": [
    "x_train_sample = x_train.reshape(x_train.shape[0], -1, 1).astype(np.float32)[:, sample_inds]/255.0\n",
    "x_test_sample = x_test.reshape(x_test.shape[0], -1, 1).astype(np.float32)[:, sample_inds]/255.0"
   ]
  },
  {
   "cell_type": "markdown",
   "metadata": {},
   "source": [
    "#### 可视化采样后的图像"
   ]
  },
  {
   "cell_type": "code",
   "execution_count": 6,
   "metadata": {},
   "outputs": [
    {
     "data": {
      "image/png": "[encoded data removed]",
      "text/plain": [
       "<Figure size 432x288 with 2 Axes>"
      ]
     },
     "metadata": {},
     "output_type": "display_data"
    }
   ],
   "source": [
    "f, axes = plt.subplots(1, 2)\n",
    "minist_img = x_train[0]\n",
    "mask = np.zeros_like(minist_img).reshape(-1)\n",
    "mask += 1\n",
    "mask[sample_inds] = 0\n",
    "minist_img = minist_img.reshape(img_width, img_width)\n",
    "mask = mask.astype(np.bool).reshape(img_width, img_width)\n",
    "\n",
    "fig1 = sns.heatmap(minist_img, cmap=\"YlGnBu\", ax=axes[0], xticklabels=False, yticklabels=False, cbar=False, square=True).set_title(\"original image\")\n",
    "fig2 = sns.heatmap(minist_img, mask=mask, cmap=\"YlGnBu\", ax=axes[1], xticklabels=False, yticklabels=False, cbar=False, square=True).set_title(\"subsample image\")"
   ]
  },
  {
   "cell_type": "markdown",
   "metadata": {},
   "source": [
    "### 空域卷积"
   ]
  },
  {
   "cell_type": "code",
   "execution_count": 7,
   "metadata": {},
   "outputs": [],
   "source": [
    "class SpatialConvolution(layers.Layer):\n",
    "    def __init__(self, graph, fin, fout, w_init):\n",
    "        super(SpatialConvolution, self).__init__()\n",
    "        self.fin = fin\n",
    "        self.fout = fout\n",
    "        self.num_node = graph.shape[0]\n",
    "        w_init = w_init(stddev=np.sqrt(2.0/self.fin))\n",
    "        nonzero_inds = np.stack(np.nonzero(graph), axis=1) \n",
    "        weights = tf.Variable(initial_value=w_init(shape=(fin*fout*len(nonzero_inds), ),\n",
    "                                                  dtype='float32'),\n",
    "                             trainable=True)\n",
    "        indices = []\n",
    "        for i in range(fin):\n",
    "            for j in range(fout):\n",
    "                fin_ind = np.repeat([[i]], repeats=len(nonzero_inds), axis=0)\n",
    "                fout_ind = np.repeat([[j]], repeats=len(nonzero_inds), axis=0)\n",
    "                new_nonzero_inds = np.concatenate([fout_ind, nonzero_inds, fin_ind], axis=1)\n",
    "                indices.append(new_nonzero_inds)\n",
    "        indices = np.concatenate(indices, axis=0)\n",
    "\n",
    "        F = tf.sparse.SparseTensor(indices, tf.identity(weights), (fout, self.num_node, self.num_node, fin))\n",
    "        self.F_tran_reshape = tf.sparse.reorder(tf.sparse.reshape(F, shape=(fout*self.num_node, self.num_node*fin)))\n",
    "    \n",
    "    def call(self, inputs):\n",
    "        inputs_reshape = tf.transpose(tf.reshape(inputs, shape=(-1, self.fin*self.num_node)))\n",
    "        c1 = tf.sparse.sparse_dense_matmul(self.F_tran_reshape, inputs_reshape)\n",
    "        output = tf.nn.relu(c1)\n",
    "        output = tf.reshape(tf.transpose(output), (-1, self.num_node, self.fout))\n",
    "        return output"
   ]
  },
  {
   "cell_type": "markdown",
   "metadata": {},
   "source": [
    "### avg pooling"
   ]
  },
  {
   "cell_type": "code",
   "execution_count": 8,
   "metadata": {},
   "outputs": [],
   "source": [
    "class AvgPooling(layers.Layer):\n",
    "    def __init__(self, graph, fout):\n",
    "        super(AvgPooling, self).__init__()\n",
    "        num_node = graph.shape[0]\n",
    "        cluster_ids = cluster.spectral_clustering(graph, n_clusters=fout)\n",
    "        cluster_ids2node_ids = [[] for i in range(fout)]\n",
    "        for node_id, cluster_id in enumerate(cluster_ids):\n",
    "            cluster_ids2node_ids[cluster_id].append(node_id)\n",
    "\n",
    "        new_graph = np.zeros((fout, fout), dtype=np.float32)\n",
    "        for cluster_id_i, nodes_ids_i in enumerate(cluster_ids2node_ids):\n",
    "            for cluster_id_j, nodes_ids_j in enumerate(cluster_ids2node_ids):\n",
    "                for node_id_i in nodes_ids_i:\n",
    "                    for node_id_j in nodes_ids_j:\n",
    "                        new_graph[cluster_id_i, cluster_id_j] += graph[node_id_i, node_id_j]\n",
    "        self.graph = preprocessing.normalize(new_graph, norm='l1', axis=1)\n",
    "\n",
    "        self.node2cluster_matrix = np.zeros((num_node, fout), dtype=np.float32)\n",
    "        for cluster_id, node_ids in enumerate(cluster_ids2node_ids):\n",
    "            self.node2cluster_matrix[node_ids, cluster_id] = 1.0/len(node_ids)\n",
    "            \n",
    "    def get_graph(self):\n",
    "        return self.graph\n",
    "    \n",
    "    def call(self, inputs):\n",
    "        output = tf.transpose(tf.tensordot(inputs, self.node2cluster_matrix, axes=[[1], [0]]), perm=[0, 2, 1])\n",
    "        return output"
   ]
  },
  {
   "cell_type": "markdown",
   "metadata": {},
   "source": [
    "### 频域卷积"
   ]
  },
  {
   "cell_type": "code",
   "execution_count": 26,
   "metadata": {},
   "outputs": [],
   "source": [
    "class SpectralConvolution(layers.Layer):\n",
    "    def __init__(self, graph, fin, fout, n_component, w_init):\n",
    "        super(SpectralConvolution, self).__init__()\n",
    "        self.num_node = graph.shape[0]\n",
    "        self.fin = fin\n",
    "        self.fout = fout\n",
    "        self.n_component = n_component\n",
    "        w_init = w_init(stddev=np.sqrt(2.0/self.fin))\n",
    "        laplacian_graph = csgraph.laplacian(graph, normed=False)\n",
    "        eigen_value, eigen_vector = np.linalg.eig(laplacian_graph.todense())\n",
    "        idx = eigen_value.argsort()[::-1]   \n",
    "        eigen_value = eigen_value[idx][-self.n_component:]\n",
    "        eigen_vector = eigen_vector[:,idx][:, -self.n_component:]\n",
    "        \n",
    "        self.u = eigen_vector.T\n",
    "\n",
    "        weights = tf.Variable(initial_value=w_init(shape=(fin*fout*self.n_component, ),\n",
    "                                                  dtype='float32'),\n",
    "                             trainable=True)\n",
    "        indices = []\n",
    "        for i in range(fin):\n",
    "            for j in range(fout):\n",
    "                fin_ind = np.repeat([[i]], repeats=self.n_component, axis=0)\n",
    "                fout_ind = np.repeat([[i]], repeats=self.n_component, axis=0)\n",
    "                nonzero_inds = np.array([[k, k] for k in range(self.n_component)], dtype=np.int32)\n",
    "                new_nonzero_inds = np.concatenate([fout_ind, nonzero_inds, fin_ind], axis=1)\n",
    "                indices.append(new_nonzero_inds)\n",
    "        indices = np.concatenate(indices, axis=0)\n",
    "\n",
    "        F = tf.sparse.SparseTensor(indices, tf.identity(weights), (fout, self.n_component, self.n_component, fin))\n",
    "        self.F_tran_reshape = tf.sparse.reorder(tf.sparse.reshape(F, shape=(fout*self.n_component, self.n_component*fin)))\n",
    "    \n",
    "    def call(self, inputs):\n",
    "        inputs_spectral = tf.tensordot(inputs, self.u, axes=[[1], [1]])\n",
    "        inputs_spectral_reshape = tf.transpose(tf.reshape(inputs_spectral, shape=(-1, self.fin*self.n_component)))\n",
    "        F_output = tf.transpose(tf.sparse.sparse_dense_matmul(self.F_tran_reshape, inputs_spectral_reshape))\n",
    "        F_output = tf.reshape(F_output, (-1, self.fout, self.n_component))\n",
    "        c1 = tf.transpose(tf.tensordot(F_output, self.u, axes=[[2], [0]]), perm=[0, 2, 1])\n",
    "        output = tf.nn.relu(c1)\n",
    "        return output"
   ]
  },
  {
   "cell_type": "markdown",
   "metadata": {},
   "source": [
    "### 空域图卷积模型"
   ]
  },
  {
   "cell_type": "code",
   "execution_count": 10,
   "metadata": {},
   "outputs": [],
   "source": [
    "class SpatialGCN(tf.keras.Model):\n",
    "    def __init__(self, graph, num_classes=10):\n",
    "        super(SpatialGCN, self).__init__()\n",
    "        w_init = tf.random_normal_initializer\n",
    "        self.lrf_3200 = SpatialConvolution(graph, 1, 8, w_init)\n",
    "        self.ap_800 = AvgPooling(graph, 100)\n",
    "        graph_100 = self.ap_800.get_graph()\n",
    "        self.lrf_800 = SpatialConvolution(graph_100, 8, 8, w_init)\n",
    "        self.ap_400 = AvgPooling(graph_100, 50)\n",
    "        self.fc = layers.Dense(num_classes)\n",
    "        \n",
    "    def call(self, inputs):\n",
    "        lrf_3200_output = self.lrf_3200(inputs)\n",
    "        ap_800_output = self.ap_800(lrf_3200_output)\n",
    "        lrf_800_output = self.lrf_800(ap_800_output)\n",
    "        ap_400_output = self.ap_400(lrf_800_output)\n",
    "        ap_400_output_reshape = tf.reshape(ap_400_output, (-1, 400))\n",
    "        logits = self.fc(ap_400_output_reshape)\n",
    "        predictions = tf.nn.softmax(logits)\n",
    "        return predictions"
   ]
  },
  {
   "cell_type": "markdown",
   "metadata": {},
   "source": [
    "### 频域图卷积模型"
   ]
  },
  {
   "cell_type": "code",
   "execution_count": 22,
   "metadata": {},
   "outputs": [],
   "source": [
    "class SpectralGCN(tf.keras.Model):\n",
    "    def __init__(self, graph, num_classes=10):\n",
    "        super(SpectralGCN, self).__init__()\n",
    "        w_init = tf.random_normal_initializer\n",
    "        self.sp_1600 = SpectralConvolution(graph, 1, 4, 300, w_init)\n",
    "        self.fc = layers.Dense(num_classes)\n",
    "        \n",
    "    def call(self, inputs):\n",
    "        sp_1600_output = self.sp_1600(inputs)\n",
    "        sp_1600_output_reshape = tf.reshape(sp_1600_output, (-1, 1600))\n",
    "        logits = self.fc(sp_1600_output_reshape)\n",
    "        predictions = tf.nn.softmax(logits)\n",
    "        return predictions"
   ]
  },
  {
   "cell_type": "code",
   "execution_count": 12,
   "metadata": {},
   "outputs": [],
   "source": [
    "optimizer = tf.keras.optimizers.Adam(learning_rate=1e-3)\n",
    "loss_fn = tf.keras.losses.SparseCategoricalCrossentropy()\n",
    "metrics = [tf.keras.metrics.SparseCategoricalAccuracy()]"
   ]
  },
  {
   "cell_type": "code",
   "execution_count": 28,
   "metadata": {},
   "outputs": [
    {
     "name": "stderr",
     "output_type": "stream",
     "text": [
      "/usr/local/lib/python3.7/site-packages/sklearn/utils/validation.py:855: UserWarning: Array is not symmetric, and will be converted to symmetric by average with its transpose.\n",
      "  warnings.warn(\"Array is not symmetric, and will be converted \"\n"
     ]
    },
    {
     "name": "stdout",
     "output_type": "stream",
     "text": [
      "Train on 60000 samples, validate on 10000 samples\n",
      "Epoch 1/50\n",
      "60000/60000 [==============================] - 4s 66us/sample - loss: 0.4548 - sparse_categorical_accuracy: 0.8631 - val_loss: 0.3034 - val_sparse_categorical_accuracy: 0.9140\n",
      "Epoch 2/50\n",
      "60000/60000 [==============================] - 3s 57us/sample - loss: 0.2939 - sparse_categorical_accuracy: 0.9141 - val_loss: 0.2592 - val_sparse_categorical_accuracy: 0.9238\n",
      "Epoch 3/50\n",
      "60000/60000 [==============================] - 3s 57us/sample - loss: 0.2626 - sparse_categorical_accuracy: 0.9228 - val_loss: 0.2418 - val_sparse_categorical_accuracy: 0.9283\n",
      "Epoch 4/50\n",
      "60000/60000 [==============================] - 3s 56us/sample - loss: 0.2443 - sparse_categorical_accuracy: 0.9287 - val_loss: 0.2302 - val_sparse_categorical_accuracy: 0.9307\n",
      "Epoch 5/50\n",
      "60000/60000 [==============================] - 3s 56us/sample - loss: 0.2311 - sparse_categorical_accuracy: 0.9322 - val_loss: 0.2243 - val_sparse_categorical_accuracy: 0.9335\n",
      "Epoch 6/50\n",
      "60000/60000 [==============================] - 3s 56us/sample - loss: 0.2218 - sparse_categorical_accuracy: 0.9341 - val_loss: 0.2165 - val_sparse_categorical_accuracy: 0.9346\n",
      "Epoch 7/50\n",
      "60000/60000 [==============================] - 3s 56us/sample - loss: 0.2132 - sparse_categorical_accuracy: 0.9371 - val_loss: 0.2110 - val_sparse_categorical_accuracy: 0.9378\n",
      "Epoch 8/50\n",
      "60000/60000 [==============================] - 3s 56us/sample - loss: 0.2073 - sparse_categorical_accuracy: 0.9382 - val_loss: 0.2071 - val_sparse_categorical_accuracy: 0.9368\n",
      "Epoch 9/50\n",
      "60000/60000 [==============================] - 3s 57us/sample - loss: 0.2018 - sparse_categorical_accuracy: 0.9402 - val_loss: 0.2016 - val_sparse_categorical_accuracy: 0.9403\n",
      "Epoch 10/50\n",
      "60000/60000 [==============================] - 3s 57us/sample - loss: 0.1969 - sparse_categorical_accuracy: 0.9420 - val_loss: 0.2040 - val_sparse_categorical_accuracy: 0.9360\n",
      "Epoch 11/50\n",
      "60000/60000 [==============================] - 3s 57us/sample - loss: 0.1928 - sparse_categorical_accuracy: 0.9424 - val_loss: 0.1970 - val_sparse_categorical_accuracy: 0.9411\n",
      "Epoch 12/50\n",
      "60000/60000 [==============================] - 3s 57us/sample - loss: 0.1889 - sparse_categorical_accuracy: 0.9443 - val_loss: 0.1997 - val_sparse_categorical_accuracy: 0.9380\n",
      "Epoch 13/50\n",
      "60000/60000 [==============================] - 3s 58us/sample - loss: 0.1856 - sparse_categorical_accuracy: 0.9445 - val_loss: 0.1953 - val_sparse_categorical_accuracy: 0.9420\n",
      "Epoch 14/50\n",
      "60000/60000 [==============================] - 3s 56us/sample - loss: 0.1827 - sparse_categorical_accuracy: 0.9462 - val_loss: 0.1867 - val_sparse_categorical_accuracy: 0.9430\n",
      "Epoch 15/50\n",
      "60000/60000 [==============================] - 3s 58us/sample - loss: 0.1800 - sparse_categorical_accuracy: 0.9464 - val_loss: 0.1874 - val_sparse_categorical_accuracy: 0.9420\n",
      "Epoch 16/50\n",
      "60000/60000 [==============================] - 3s 58us/sample - loss: 0.1779 - sparse_categorical_accuracy: 0.9466 - val_loss: 0.1875 - val_sparse_categorical_accuracy: 0.9435\n",
      "Epoch 17/50\n",
      "60000/60000 [==============================] - 3s 57us/sample - loss: 0.1755 - sparse_categorical_accuracy: 0.9477 - val_loss: 0.1878 - val_sparse_categorical_accuracy: 0.9432\n",
      "Epoch 18/50\n",
      "60000/60000 [==============================] - 3s 58us/sample - loss: 0.1741 - sparse_categorical_accuracy: 0.9473 - val_loss: 0.1890 - val_sparse_categorical_accuracy: 0.9440\n",
      "Epoch 19/50\n",
      "60000/60000 [==============================] - 4s 59us/sample - loss: 0.1716 - sparse_categorical_accuracy: 0.9488 - val_loss: 0.1880 - val_sparse_categorical_accuracy: 0.9412\n",
      "Epoch 20/50\n",
      "60000/60000 [==============================] - 3s 58us/sample - loss: 0.1699 - sparse_categorical_accuracy: 0.9493 - val_loss: 0.1838 - val_sparse_categorical_accuracy: 0.9441\n",
      "Epoch 21/50\n",
      "60000/60000 [==============================] - 4s 58us/sample - loss: 0.1684 - sparse_categorical_accuracy: 0.9494 - val_loss: 0.1797 - val_sparse_categorical_accuracy: 0.9446\n",
      "Epoch 22/50\n",
      "60000/60000 [==============================] - 3s 58us/sample - loss: 0.1671 - sparse_categorical_accuracy: 0.9499 - val_loss: 0.1786 - val_sparse_categorical_accuracy: 0.9439\n",
      "Epoch 23/50\n",
      "60000/60000 [==============================] - 4s 59us/sample - loss: 0.1651 - sparse_categorical_accuracy: 0.9505 - val_loss: 0.1847 - val_sparse_categorical_accuracy: 0.9440\n",
      "Epoch 24/50\n",
      "60000/60000 [==============================] - 3s 58us/sample - loss: 0.1645 - sparse_categorical_accuracy: 0.9506 - val_loss: 0.1829 - val_sparse_categorical_accuracy: 0.9443\n",
      "Epoch 25/50\n",
      "60000/60000 [==============================] - 4s 58us/sample - loss: 0.1626 - sparse_categorical_accuracy: 0.9510 - val_loss: 0.1856 - val_sparse_categorical_accuracy: 0.9420\n",
      "Epoch 26/50\n",
      "60000/60000 [==============================] - 3s 56us/sample - loss: 0.1621 - sparse_categorical_accuracy: 0.9510 - val_loss: 0.1775 - val_sparse_categorical_accuracy: 0.9452\n",
      "Epoch 27/50\n",
      "60000/60000 [==============================] - 3s 57us/sample - loss: 0.1616 - sparse_categorical_accuracy: 0.9517 - val_loss: 0.1806 - val_sparse_categorical_accuracy: 0.9460\n",
      "Epoch 28/50\n",
      "60000/60000 [==============================] - 3s 57us/sample - loss: 0.1597 - sparse_categorical_accuracy: 0.9517 - val_loss: 0.1762 - val_sparse_categorical_accuracy: 0.9466\n",
      "Epoch 29/50\n",
      "60000/60000 [==============================] - 3s 56us/sample - loss: 0.1586 - sparse_categorical_accuracy: 0.9516 - val_loss: 0.1793 - val_sparse_categorical_accuracy: 0.9426\n",
      "Epoch 30/50\n",
      "60000/60000 [==============================] - 4s 59us/sample - loss: 0.1584 - sparse_categorical_accuracy: 0.9520 - val_loss: 0.1755 - val_sparse_categorical_accuracy: 0.9465\n",
      "Epoch 31/50\n",
      "60000/60000 [==============================] - 3s 57us/sample - loss: 0.1570 - sparse_categorical_accuracy: 0.9520 - val_loss: 0.1797 - val_sparse_categorical_accuracy: 0.9452\n",
      "Epoch 32/50\n",
      "60000/60000 [==============================] - 3s 55us/sample - loss: 0.1558 - sparse_categorical_accuracy: 0.9526 - val_loss: 0.1759 - val_sparse_categorical_accuracy: 0.9443\n",
      "Epoch 33/50\n",
      "60000/60000 [==============================] - 3s 57us/sample - loss: 0.1552 - sparse_categorical_accuracy: 0.9524 - val_loss: 0.1784 - val_sparse_categorical_accuracy: 0.9433\n",
      "Epoch 34/50\n",
      "60000/60000 [==============================] - 3s 56us/sample - loss: 0.1548 - sparse_categorical_accuracy: 0.9531 - val_loss: 0.1729 - val_sparse_categorical_accuracy: 0.9468\n",
      "Epoch 35/50\n",
      "60000/60000 [==============================] - 3s 56us/sample - loss: 0.1535 - sparse_categorical_accuracy: 0.9528 - val_loss: 0.1762 - val_sparse_categorical_accuracy: 0.9455\n",
      "Epoch 36/50\n",
      "60000/60000 [==============================] - 3s 56us/sample - loss: 0.1531 - sparse_categorical_accuracy: 0.9534 - val_loss: 0.1745 - val_sparse_categorical_accuracy: 0.9449\n",
      "Epoch 37/50\n",
      "60000/60000 [==============================] - 3s 55us/sample - loss: 0.1524 - sparse_categorical_accuracy: 0.9533 - val_loss: 0.1782 - val_sparse_categorical_accuracy: 0.9441\n",
      "Epoch 38/50\n",
      "60000/60000 [==============================] - 3s 54us/sample - loss: 0.1520 - sparse_categorical_accuracy: 0.9532 - val_loss: 0.1817 - val_sparse_categorical_accuracy: 0.9442\n",
      "Epoch 39/50\n",
      "60000/60000 [==============================] - 3s 57us/sample - loss: 0.1516 - sparse_categorical_accuracy: 0.9544 - val_loss: 0.1761 - val_sparse_categorical_accuracy: 0.9452\n",
      "Epoch 40/50\n",
      "60000/60000 [==============================] - 3s 54us/sample - loss: 0.1505 - sparse_categorical_accuracy: 0.9538 - val_loss: 0.1738 - val_sparse_categorical_accuracy: 0.9451\n",
      "Epoch 41/50\n",
      "60000/60000 [==============================] - 3s 55us/sample - loss: 0.1496 - sparse_categorical_accuracy: 0.9545 - val_loss: 0.1753 - val_sparse_categorical_accuracy: 0.9437\n",
      "Epoch 42/50\n",
      "60000/60000 [==============================] - 3s 54us/sample - loss: 0.1495 - sparse_categorical_accuracy: 0.9539 - val_loss: 0.1750 - val_sparse_categorical_accuracy: 0.9451\n",
      "Epoch 43/50\n",
      "60000/60000 [==============================] - 3s 56us/sample - loss: 0.1492 - sparse_categorical_accuracy: 0.9542 - val_loss: 0.1811 - val_sparse_categorical_accuracy: 0.9454\n",
      "Epoch 44/50\n",
      "60000/60000 [==============================] - 3s 54us/sample - loss: 0.1481 - sparse_categorical_accuracy: 0.9546 - val_loss: 0.1803 - val_sparse_categorical_accuracy: 0.9440\n",
      "Epoch 45/50\n",
      "60000/60000 [==============================] - 3s 54us/sample - loss: 0.1475 - sparse_categorical_accuracy: 0.9546 - val_loss: 0.1743 - val_sparse_categorical_accuracy: 0.9451\n",
      "Epoch 46/50\n",
      "60000/60000 [==============================] - 3s 56us/sample - loss: 0.1482 - sparse_categorical_accuracy: 0.9543 - val_loss: 0.1749 - val_sparse_categorical_accuracy: 0.9463\n",
      "Epoch 47/50\n",
      "60000/60000 [==============================] - 3s 54us/sample - loss: 0.1465 - sparse_categorical_accuracy: 0.9554 - val_loss: 0.1768 - val_sparse_categorical_accuracy: 0.9444\n",
      "Epoch 48/50\n",
      "60000/60000 [==============================] - 3s 54us/sample - loss: 0.1464 - sparse_categorical_accuracy: 0.9550 - val_loss: 0.1779 - val_sparse_categorical_accuracy: 0.9465\n",
      "Epoch 49/50\n",
      "60000/60000 [==============================] - 3s 58us/sample - loss: 0.1458 - sparse_categorical_accuracy: 0.9552 - val_loss: 0.1731 - val_sparse_categorical_accuracy: 0.9471\n",
      "Epoch 50/50\n",
      "60000/60000 [==============================] - 3s 57us/sample - loss: 0.1453 - sparse_categorical_accuracy: 0.9558 - val_loss: 0.1803 - val_sparse_categorical_accuracy: 0.9455\n"
     ]
    },
    {
     "data": {
      "text/plain": [
       "<tensorflow.python.keras.callbacks.History at 0x15a4b2490>"
      ]
     },
     "execution_count": 28,
     "metadata": {},
     "output_type": "execute_result"
    }
   ],
   "source": [
    "model = SpatialGCN(W_sample)\n",
    "model.compile(optimizer, loss=loss_fn, metrics=metrics)\n",
    "model.fit(x_train_sample, y_train, epochs=50, batch_size=128, validation_data=(x_test_sample, y_test))"
   ]
  },
  {
   "cell_type": "markdown",
   "metadata": {},
   "source": [
    "## 可视化第二个avg pooling的聚类结果"
   ]
  },
  {
   "cell_type": "code",
   "execution_count": 83,
   "metadata": {},
   "outputs": [],
   "source": [
    "node2clusterid = model.ap_800.node2cluster_matrix.dot(model.ap_400.node2cluster_matrix)"
   ]
  },
  {
   "cell_type": "code",
   "execution_count": 89,
   "metadata": {},
   "outputs": [],
   "source": [
    "def draw_cluster_result(node2clusterid):\n",
    "    kernel_img = np.zeros((img_width, img_width), dtype=np.float32)\n",
    "    for i in range(len(sample_inds)):\n",
    "        ind = sample_inds[i]\n",
    "        row = ind//img_width\n",
    "        col = ind%img_width\n",
    "        cluster_id = np.argmax(node2clusterid[i, :])+1\n",
    "        kernel_img[row, col] = cluster_id\n",
    "        sns.heatmap(kernel_img, mask=mask, cmap=sns.color_palette(\"Paired\"), xticklabels=False, yticklabels=False, cbar=False, square=True).set_title(\"cluster result with cluster number %s\" % node2clusterid.shape[1])"
   ]
  },
  {
   "cell_type": "code",
   "execution_count": 90,
   "metadata": {},
   "outputs": [
    {
     "data": {
      "image/png": "[encoded data removed]",
      "text/plain": [
       "<Figure size 432x288 with 1 Axes>"
      ]
     },
     "metadata": {},
     "output_type": "display_data"
    }
   ],
   "source": [
    "draw_cluster_result(node2clusterid)"
   ]
  },
  {
   "cell_type": "code",
   "execution_count": 27,
   "metadata": {
    "scrolled": true
   },
   "outputs": [
    {
     "name": "stdout",
     "output_type": "stream",
     "text": [
      "Train on 60000 samples, validate on 10000 samples\n",
      "Epoch 1/50\n",
      "60000/60000 [==============================] - 2s 37us/sample - loss: 0.4600 - sparse_categorical_accuracy: 0.8676 - val_loss: 0.3302 - val_sparse_categorical_accuracy: 0.9052\n",
      "Epoch 2/50\n",
      "60000/60000 [==============================] - 2s 30us/sample - loss: 0.3244 - sparse_categorical_accuracy: 0.9059 - val_loss: 0.2984 - val_sparse_categorical_accuracy: 0.9153\n",
      "Epoch 3/50\n",
      "60000/60000 [==============================] - 2s 31us/sample - loss: 0.2971 - sparse_categorical_accuracy: 0.9146 - val_loss: 0.2825 - val_sparse_categorical_accuracy: 0.9183\n",
      "Epoch 4/50\n",
      "60000/60000 [==============================] - 2s 31us/sample - loss: 0.2808 - sparse_categorical_accuracy: 0.9183 - val_loss: 0.2738 - val_sparse_categorical_accuracy: 0.9187\n",
      "Epoch 5/50\n",
      "60000/60000 [==============================] - 2s 31us/sample - loss: 0.2703 - sparse_categorical_accuracy: 0.9213 - val_loss: 0.2668 - val_sparse_categorical_accuracy: 0.9226\n",
      "Epoch 6/50\n",
      "60000/60000 [==============================] - 2s 30us/sample - loss: 0.2617 - sparse_categorical_accuracy: 0.9237 - val_loss: 0.2616 - val_sparse_categorical_accuracy: 0.9235\n",
      "Epoch 7/50\n",
      "60000/60000 [==============================] - 2s 29us/sample - loss: 0.2551 - sparse_categorical_accuracy: 0.9255 - val_loss: 0.2563 - val_sparse_categorical_accuracy: 0.9243\n",
      "Epoch 8/50\n",
      "60000/60000 [==============================] - 2s 31us/sample - loss: 0.2495 - sparse_categorical_accuracy: 0.9263 - val_loss: 0.2521 - val_sparse_categorical_accuracy: 0.9248\n",
      "Epoch 9/50\n",
      "60000/60000 [==============================] - 2s 30us/sample - loss: 0.2450 - sparse_categorical_accuracy: 0.9280 - val_loss: 0.2488 - val_sparse_categorical_accuracy: 0.9249\n",
      "Epoch 10/50\n",
      "60000/60000 [==============================] - 2s 30us/sample - loss: 0.2406 - sparse_categorical_accuracy: 0.9288 - val_loss: 0.2477 - val_sparse_categorical_accuracy: 0.9266\n",
      "Epoch 11/50\n",
      "60000/60000 [==============================] - 2s 31us/sample - loss: 0.2371 - sparse_categorical_accuracy: 0.9302 - val_loss: 0.2445 - val_sparse_categorical_accuracy: 0.9278\n",
      "Epoch 12/50\n",
      "60000/60000 [==============================] - 2s 31us/sample - loss: 0.2341 - sparse_categorical_accuracy: 0.9307 - val_loss: 0.2433 - val_sparse_categorical_accuracy: 0.9277\n",
      "Epoch 13/50\n",
      "60000/60000 [==============================] - 2s 33us/sample - loss: 0.2312 - sparse_categorical_accuracy: 0.9316 - val_loss: 0.2424 - val_sparse_categorical_accuracy: 0.9284\n",
      "Epoch 14/50\n",
      "60000/60000 [==============================] - 2s 32us/sample - loss: 0.2289 - sparse_categorical_accuracy: 0.9323 - val_loss: 0.2411 - val_sparse_categorical_accuracy: 0.9292\n",
      "Epoch 15/50\n",
      "60000/60000 [==============================] - 2s 32us/sample - loss: 0.2269 - sparse_categorical_accuracy: 0.9327 - val_loss: 0.2393 - val_sparse_categorical_accuracy: 0.9289\n",
      "Epoch 16/50\n",
      "60000/60000 [==============================] - 2s 33us/sample - loss: 0.2247 - sparse_categorical_accuracy: 0.9332 - val_loss: 0.2389 - val_sparse_categorical_accuracy: 0.9286\n",
      "Epoch 17/50\n",
      "60000/60000 [==============================] - 2s 32us/sample - loss: 0.2225 - sparse_categorical_accuracy: 0.9339 - val_loss: 0.2372 - val_sparse_categorical_accuracy: 0.9314\n",
      "Epoch 18/50\n",
      "60000/60000 [==============================] - 2s 33us/sample - loss: 0.2211 - sparse_categorical_accuracy: 0.9344 - val_loss: 0.2361 - val_sparse_categorical_accuracy: 0.9304\n",
      "Epoch 19/50\n",
      "60000/60000 [==============================] - 2s 34us/sample - loss: 0.2195 - sparse_categorical_accuracy: 0.9343 - val_loss: 0.2343 - val_sparse_categorical_accuracy: 0.9309\n",
      "Epoch 20/50\n",
      "60000/60000 [==============================] - 2s 34us/sample - loss: 0.2183 - sparse_categorical_accuracy: 0.9349 - val_loss: 0.2332 - val_sparse_categorical_accuracy: 0.9310\n",
      "Epoch 21/50\n",
      "60000/60000 [==============================] - 2s 34us/sample - loss: 0.2165 - sparse_categorical_accuracy: 0.9355 - val_loss: 0.2332 - val_sparse_categorical_accuracy: 0.9315\n",
      "Epoch 22/50\n",
      "60000/60000 [==============================] - 2s 34us/sample - loss: 0.2152 - sparse_categorical_accuracy: 0.9353 - val_loss: 0.2358 - val_sparse_categorical_accuracy: 0.9301\n",
      "Epoch 23/50\n",
      "60000/60000 [==============================] - 2s 33us/sample - loss: 0.2144 - sparse_categorical_accuracy: 0.9358 - val_loss: 0.2320 - val_sparse_categorical_accuracy: 0.9320\n",
      "Epoch 24/50\n",
      "60000/60000 [==============================] - 2s 33us/sample - loss: 0.2132 - sparse_categorical_accuracy: 0.9364 - val_loss: 0.2322 - val_sparse_categorical_accuracy: 0.9321\n",
      "Epoch 25/50\n",
      "60000/60000 [==============================] - 2s 34us/sample - loss: 0.2119 - sparse_categorical_accuracy: 0.9367 - val_loss: 0.2328 - val_sparse_categorical_accuracy: 0.9329\n",
      "Epoch 26/50\n",
      "60000/60000 [==============================] - 2s 34us/sample - loss: 0.2109 - sparse_categorical_accuracy: 0.9366 - val_loss: 0.2313 - val_sparse_categorical_accuracy: 0.9327\n",
      "Epoch 27/50\n",
      "60000/60000 [==============================] - 2s 34us/sample - loss: 0.2103 - sparse_categorical_accuracy: 0.9366 - val_loss: 0.2295 - val_sparse_categorical_accuracy: 0.9319\n",
      "Epoch 28/50\n",
      "60000/60000 [==============================] - 2s 35us/sample - loss: 0.2092 - sparse_categorical_accuracy: 0.9378 - val_loss: 0.2330 - val_sparse_categorical_accuracy: 0.9308\n",
      "Epoch 29/50\n",
      "60000/60000 [==============================] - 2s 35us/sample - loss: 0.2085 - sparse_categorical_accuracy: 0.9377 - val_loss: 0.2302 - val_sparse_categorical_accuracy: 0.9326\n",
      "Epoch 30/50\n",
      "60000/60000 [==============================] - 2s 35us/sample - loss: 0.2075 - sparse_categorical_accuracy: 0.9377 - val_loss: 0.2306 - val_sparse_categorical_accuracy: 0.9321\n",
      "Epoch 31/50\n",
      "60000/60000 [==============================] - 2s 34us/sample - loss: 0.2072 - sparse_categorical_accuracy: 0.9378 - val_loss: 0.2296 - val_sparse_categorical_accuracy: 0.9328\n",
      "Epoch 32/50\n",
      "60000/60000 [==============================] - 2s 35us/sample - loss: 0.2062 - sparse_categorical_accuracy: 0.9380 - val_loss: 0.2287 - val_sparse_categorical_accuracy: 0.9330\n",
      "Epoch 33/50\n",
      "60000/60000 [==============================] - 2s 35us/sample - loss: 0.2056 - sparse_categorical_accuracy: 0.9388 - val_loss: 0.2291 - val_sparse_categorical_accuracy: 0.9322\n",
      "Epoch 34/50\n",
      "60000/60000 [==============================] - 2s 35us/sample - loss: 0.2049 - sparse_categorical_accuracy: 0.9388 - val_loss: 0.2285 - val_sparse_categorical_accuracy: 0.9329\n",
      "Epoch 35/50\n",
      "60000/60000 [==============================] - 2s 35us/sample - loss: 0.2042 - sparse_categorical_accuracy: 0.9393 - val_loss: 0.2280 - val_sparse_categorical_accuracy: 0.9329\n",
      "Epoch 36/50\n",
      "60000/60000 [==============================] - 2s 35us/sample - loss: 0.2037 - sparse_categorical_accuracy: 0.9386 - val_loss: 0.2295 - val_sparse_categorical_accuracy: 0.9320\n",
      "Epoch 37/50\n",
      "60000/60000 [==============================] - 2s 35us/sample - loss: 0.2031 - sparse_categorical_accuracy: 0.9393 - val_loss: 0.2295 - val_sparse_categorical_accuracy: 0.9327\n",
      "Epoch 38/50\n",
      "60000/60000 [==============================] - 2s 35us/sample - loss: 0.2024 - sparse_categorical_accuracy: 0.9399 - val_loss: 0.2285 - val_sparse_categorical_accuracy: 0.9314\n",
      "Epoch 39/50\n",
      "60000/60000 [==============================] - 2s 35us/sample - loss: 0.2018 - sparse_categorical_accuracy: 0.9395 - val_loss: 0.2315 - val_sparse_categorical_accuracy: 0.9318\n",
      "Epoch 40/50\n",
      "60000/60000 [==============================] - 2s 34us/sample - loss: 0.2014 - sparse_categorical_accuracy: 0.9394 - val_loss: 0.2299 - val_sparse_categorical_accuracy: 0.9314\n",
      "Epoch 41/50\n",
      "60000/60000 [==============================] - 2s 34us/sample - loss: 0.2005 - sparse_categorical_accuracy: 0.9404 - val_loss: 0.2306 - val_sparse_categorical_accuracy: 0.9319\n",
      "Epoch 42/50\n",
      "60000/60000 [==============================] - 2s 33us/sample - loss: 0.2006 - sparse_categorical_accuracy: 0.9399 - val_loss: 0.2311 - val_sparse_categorical_accuracy: 0.9320\n",
      "Epoch 43/50\n",
      "60000/60000 [==============================] - 2s 33us/sample - loss: 0.2000 - sparse_categorical_accuracy: 0.9399 - val_loss: 0.2271 - val_sparse_categorical_accuracy: 0.9340\n",
      "Epoch 44/50\n",
      "60000/60000 [==============================] - 2s 33us/sample - loss: 0.1994 - sparse_categorical_accuracy: 0.9403 - val_loss: 0.2271 - val_sparse_categorical_accuracy: 0.9335\n",
      "Epoch 45/50\n",
      "60000/60000 [==============================] - 2s 33us/sample - loss: 0.1989 - sparse_categorical_accuracy: 0.9406 - val_loss: 0.2277 - val_sparse_categorical_accuracy: 0.9328\n",
      "Epoch 46/50\n",
      "60000/60000 [==============================] - 2s 33us/sample - loss: 0.1985 - sparse_categorical_accuracy: 0.9399 - val_loss: 0.2294 - val_sparse_categorical_accuracy: 0.9325\n",
      "Epoch 47/50\n",
      "60000/60000 [==============================] - 2s 34us/sample - loss: 0.1981 - sparse_categorical_accuracy: 0.9403 - val_loss: 0.2273 - val_sparse_categorical_accuracy: 0.9334\n",
      "Epoch 48/50\n",
      "60000/60000 [==============================] - 2s 33us/sample - loss: 0.1975 - sparse_categorical_accuracy: 0.9401 - val_loss: 0.2296 - val_sparse_categorical_accuracy: 0.9333\n",
      "Epoch 49/50\n",
      "60000/60000 [==============================] - 2s 33us/sample - loss: 0.1974 - sparse_categorical_accuracy: 0.9405 - val_loss: 0.2286 - val_sparse_categorical_accuracy: 0.9323\n",
      "Epoch 50/50\n",
      "60000/60000 [==============================] - 2s 33us/sample - loss: 0.1973 - sparse_categorical_accuracy: 0.9406 - val_loss: 0.2313 - val_sparse_categorical_accuracy: 0.9317\n"
     ]
    },
    {
     "data": {
      "text/plain": [
       "<tensorflow.python.keras.callbacks.History at 0x1581bb7d0>"
      ]
     },
     "execution_count": 27,
     "metadata": {},
     "output_type": "execute_result"
    }
   ],
   "source": [
    "model = SpectralGCN(W_sample)\n",
    "model.compile(optimizer, loss=loss_fn, metrics=metrics)\n",
    "model.fit(x_train_sample, y_train, epochs=50, batch_size=128, validation_data=(x_test_sample, y_test))"
   ]
  },
  {
   "cell_type": "code",
   "execution_count": null,
   "metadata": {},
   "outputs": [],
   "source": []
  }
 ],
 "metadata": {
  "kernelspec": {
   "display_name": "Python 3",
   "language": "python",
   "name": "python3"
  },
  "language_info": {
   "codemirror_mode": {
    "name": "ipython",
    "version": 3
   },
   "file_extension": ".py",
   "mimetype": "text/x-python",
   "name": "python",
   "nbconvert_exporter": "python",
   "pygments_lexer": "ipython3",
   "version": "3.7.6"
  }
 },
 "nbformat": 4,
 "nbformat_minor": 2
}
